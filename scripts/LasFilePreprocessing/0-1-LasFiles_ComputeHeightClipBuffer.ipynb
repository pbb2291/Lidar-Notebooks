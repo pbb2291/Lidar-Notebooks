{
 "cells": [
  {
   "cell_type": "markdown",
   "id": "495c99fa-9ce6-4017-8e76-7c0365a23c5b",
   "metadata": {},
   "source": [
    "## Preprocessing Step 1 - Compute height and export las tiles for clipping\n",
    "***Lidar-Notebooks***<br>\n",
    "*PB*<p>\n",
    "11/28/22 <p>\n",
    "\n",
    "Note: The \"buffer\" option in the lasHeight function can be used to clip the edges of las tiles (removing overlap between tiles). \n"
   ]
  },
  {
   "cell_type": "code",
   "execution_count": 1,
   "id": "bef7dc7b-de54-4d50-af54-2a0b2aa54129",
   "metadata": {},
   "outputs": [],
   "source": [
    "# NOTE: Don't forget to change the below\n",
    "import sys\n",
    "# sys.path.append('/n/home02/pbb/scripts/halo-metadata-server/LabLidarScripts/bin/')\n",
    "sys.path.append('../../bin/')\n",
    "from LabLidar_Functions import calcLasHeight\n",
    "from pathlib import Path\n",
    "import time"
   ]
  },
  {
   "cell_type": "markdown",
   "id": "6a494810-e28d-442e-8784-527d70d1e146",
   "metadata": {},
   "source": [
    "### Define User Inputs"
   ]
  },
  {
   "cell_type": "code",
   "execution_count": 2,
   "id": "2859c199-ce8a-45e2-8237-db3f49c57074",
   "metadata": {},
   "outputs": [],
   "source": [
    "# Set the path to the input directory of unprocessed las files (usually, square tiles of data)\n",
    "indir = Path('/n/davies_lab/Lab/data/processed/Africa/Kruger/2020/2020_01-02/20200116_NkuluEP/Terrasolid/PointCloudOutput')\n",
    "\n",
    "# Set a folder to output preprocessed las tiles\n",
    "outdir = Path('/n/davies_lab/Lab/LabLidarScripts/data/out/test/lasfiles_preprocessed/Nkhulu')\n",
    "\n",
    "# Set buffer value to clip from tiles\n",
    "buffer = 10"
   ]
  },
  {
   "cell_type": "markdown",
   "id": "7e63873a-80b8-4b5d-9fcf-078daf540b19",
   "metadata": {},
   "source": [
    "### Loop Through and Process Las Tiles"
   ]
  },
  {
   "cell_type": "code",
   "execution_count": 3,
   "id": "1fcfd0fa-e243-4bc6-8bd9-d98c50704318",
   "metadata": {},
   "outputs": [
    {
     "name": "stdout",
     "output_type": "stream",
     "text": [
      "Processed NkuluEP_PointCloud_WGS84UTM36S_000004.las in 461.1 s.\n",
      "\n",
      "Processed NkuluEP_PointCloud_WGS84UTM36S_000007.las in 734.81 s.\n",
      "\n",
      "Processed NkuluEP_PointCloud_WGS84UTM36S_000002.las in 968.85 s.\n",
      "\n",
      "Processed NkuluEP_PointCloud_WGS84UTM36S_000008.las in 319.17 s.\n",
      "\n"
     ]
    }
   ],
   "source": [
    "# lasfs = [l for l in indir.glob('*.las')]\n",
    "\n",
    "# Select Specific Tiles at Nkhulu here (just for testing)\n",
    "lasfs =  [l for l in indir.glob('*.las') if (('002' in str(l))|('004' in str(l))|('007' in str(l))|('008' in str(l)))]\n",
    "\n",
    "for l in lasfs:\n",
    "\n",
    "    try:\n",
    "\n",
    "        start = time.time()\n",
    "\n",
    "        meta = calcLasHeight(inf=str(l),\n",
    "                             opath=str(outdir),\n",
    "                             buffer=buffer)\n",
    "\n",
    "        end = time.time()\n",
    "        tottime = end - start\n",
    "\n",
    "        print(f'Processed {l.name} in {round(float(tottime), 2)} s.\\n')\n",
    "\n",
    "    except Exception as e:\n",
    "\n",
    "        print(f\"{e.__class__} for {lp.name}: \\n\")\n",
    "        print(f\"\\t{e}\\n\")\n"
   ]
  }
 ],
 "metadata": {
  "kernelspec": {
   "display_name": "Python [conda env:.conda-Halo]",
   "language": "python",
   "name": "conda-env-.conda-Halo-py"
  },
  "language_info": {
   "codemirror_mode": {
    "name": "ipython",
    "version": 3
   },
   "file_extension": ".py",
   "mimetype": "text/x-python",
   "name": "python",
   "nbconvert_exporter": "python",
   "pygments_lexer": "ipython3",
   "version": "3.8.6"
  }
 },
 "nbformat": 4,
 "nbformat_minor": 5
}
