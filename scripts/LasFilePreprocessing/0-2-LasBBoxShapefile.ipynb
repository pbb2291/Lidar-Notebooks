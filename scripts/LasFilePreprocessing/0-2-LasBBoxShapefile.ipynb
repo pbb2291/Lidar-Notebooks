{
 "cells": [
  {
   "cell_type": "markdown",
   "id": "e3879adb-6701-4637-ab7e-3040f421ddf0",
   "metadata": {},
   "source": [
    "### Make Shapefile Boundaries from las file header\n",
    "##### PB 11/28/22\n",
    "\n",
    "Useful for checking overlap of tiles in QGIS."
   ]
  },
  {
   "cell_type": "code",
   "execution_count": 2,
   "id": "75f24a42-4cab-4909-9ace-624ae91fad96",
   "metadata": {},
   "outputs": [],
   "source": [
    "import sys\n",
    "sys.path.append('../../bin/')\n",
    "from LabLidar_Functions import lasBBoxShp\n",
    "from pathlib import Path\n",
    "import time\n",
    "import glob"
   ]
  },
  {
   "cell_type": "markdown",
   "id": "93127e27-380b-4651-8580-10644eedf79a",
   "metadata": {},
   "source": [
    "#### Set User Inputs"
   ]
  },
  {
   "cell_type": "code",
   "execution_count": 5,
   "id": "38373920-33ec-4d66-82f1-60c187d22e3a",
   "metadata": {},
   "outputs": [],
   "source": [
    "# Input directory of las files to make boundaries from\n",
    "ld = Path('/n/davies_lab/Lab/data/processed/Africa/Kruger/2020/2020_01-02/20200116_NkuluEP/Terrasolid/PointCloudOutput')\n",
    "\n",
    "# Output directories for polygon shapefiles of lastiles\n",
    "od = Path('/n/davies_lab/Lab/LabLidarScripts/data/out/test/las_shapefiles')\n",
    "\n",
    "# Set CRS manually using epsg code\n",
    "# Kruger is 32736 (WGS84 UTM 36S)\n",
    "# Mpala is 32637 (WGS84 UTM 37N)\n",
    "# Selenkay is 32737 (WGS84 UTM37S)\n",
    "epsg = '32736'"
   ]
  },
  {
   "cell_type": "markdown",
   "id": "3fe06731-00b9-408e-8822-9bd250271baa",
   "metadata": {},
   "source": [
    "#### Loop through tiles and make shapefiles"
   ]
  },
  {
   "cell_type": "code",
   "execution_count": 7,
   "id": "a3f8036c-7afa-4764-b25d-ada360db3104",
   "metadata": {},
   "outputs": [
    {
     "name": "stderr",
     "output_type": "stream",
     "text": [
      "/n/home02/pbb/.conda/envs/Halo/lib/python3.8/site-packages/geopandas/io/file.py:299: FutureWarning: pandas.Int64Index is deprecated and will be removed from pandas in a future version. Use pandas.Index with the appropriate dtype instead.\n",
      "  pd.Int64Index,\n"
     ]
    },
    {
     "name": "stdout",
     "output_type": "stream",
     "text": [
      "Saved NkuluEP_PointCloud_WGS84UTM36S_000005.shp. \n",
      "\n",
      "Saved NkuluEP_PointCloud_WGS84UTM36S_000006.shp. \n",
      "\n"
     ]
    },
    {
     "name": "stderr",
     "output_type": "stream",
     "text": [
      "/n/home02/pbb/.conda/envs/Halo/lib/python3.8/site-packages/geopandas/io/file.py:299: FutureWarning: pandas.Int64Index is deprecated and will be removed from pandas in a future version. Use pandas.Index with the appropriate dtype instead.\n",
      "  pd.Int64Index,\n",
      "/n/home02/pbb/.conda/envs/Halo/lib/python3.8/site-packages/geopandas/io/file.py:299: FutureWarning: pandas.Int64Index is deprecated and will be removed from pandas in a future version. Use pandas.Index with the appropriate dtype instead.\n",
      "  pd.Int64Index,\n"
     ]
    },
    {
     "name": "stdout",
     "output_type": "stream",
     "text": [
      "Saved NkuluEP_PointCloud_WGS84UTM36S_000016.shp. \n",
      "\n",
      "Saved NkuluEP_PointCloud_WGS84UTM36S_000004.shp. \n",
      "\n"
     ]
    },
    {
     "name": "stderr",
     "output_type": "stream",
     "text": [
      "/n/home02/pbb/.conda/envs/Halo/lib/python3.8/site-packages/geopandas/io/file.py:299: FutureWarning: pandas.Int64Index is deprecated and will be removed from pandas in a future version. Use pandas.Index with the appropriate dtype instead.\n",
      "  pd.Int64Index,\n",
      "/n/home02/pbb/.conda/envs/Halo/lib/python3.8/site-packages/geopandas/io/file.py:299: FutureWarning: pandas.Int64Index is deprecated and will be removed from pandas in a future version. Use pandas.Index with the appropriate dtype instead.\n",
      "  pd.Int64Index,\n"
     ]
    },
    {
     "name": "stdout",
     "output_type": "stream",
     "text": [
      "Saved NkuluEP_PointCloud_WGS84UTM36S_000007.shp. \n",
      "\n",
      "Saved NkuluEP_PointCloud_WGS84UTM36S_000003.shp. \n",
      "\n"
     ]
    },
    {
     "name": "stderr",
     "output_type": "stream",
     "text": [
      "/n/home02/pbb/.conda/envs/Halo/lib/python3.8/site-packages/geopandas/io/file.py:299: FutureWarning: pandas.Int64Index is deprecated and will be removed from pandas in a future version. Use pandas.Index with the appropriate dtype instead.\n",
      "  pd.Int64Index,\n",
      "/n/home02/pbb/.conda/envs/Halo/lib/python3.8/site-packages/geopandas/io/file.py:299: FutureWarning: pandas.Int64Index is deprecated and will be removed from pandas in a future version. Use pandas.Index with the appropriate dtype instead.\n",
      "  pd.Int64Index,\n"
     ]
    },
    {
     "name": "stdout",
     "output_type": "stream",
     "text": [
      "Saved NkuluEP_PointCloud_WGS84UTM36S_000009.shp. \n",
      "\n",
      "Saved NkuluEP_PointCloud_WGS84UTM36S_000010.shp. \n",
      "\n"
     ]
    },
    {
     "name": "stderr",
     "output_type": "stream",
     "text": [
      "/n/home02/pbb/.conda/envs/Halo/lib/python3.8/site-packages/geopandas/io/file.py:299: FutureWarning: pandas.Int64Index is deprecated and will be removed from pandas in a future version. Use pandas.Index with the appropriate dtype instead.\n",
      "  pd.Int64Index,\n",
      "/n/home02/pbb/.conda/envs/Halo/lib/python3.8/site-packages/geopandas/io/file.py:299: FutureWarning: pandas.Int64Index is deprecated and will be removed from pandas in a future version. Use pandas.Index with the appropriate dtype instead.\n",
      "  pd.Int64Index,\n"
     ]
    },
    {
     "name": "stdout",
     "output_type": "stream",
     "text": [
      "Saved NkuluEP_PointCloud_WGS84UTM36S_000012.shp. \n",
      "\n",
      "Saved NkuluEP_PointCloud_WGS84UTM36S_000002.shp. \n",
      "\n"
     ]
    },
    {
     "name": "stderr",
     "output_type": "stream",
     "text": [
      "/n/home02/pbb/.conda/envs/Halo/lib/python3.8/site-packages/geopandas/io/file.py:299: FutureWarning: pandas.Int64Index is deprecated and will be removed from pandas in a future version. Use pandas.Index with the appropriate dtype instead.\n",
      "  pd.Int64Index,\n",
      "/n/home02/pbb/.conda/envs/Halo/lib/python3.8/site-packages/geopandas/io/file.py:299: FutureWarning: pandas.Int64Index is deprecated and will be removed from pandas in a future version. Use pandas.Index with the appropriate dtype instead.\n",
      "  pd.Int64Index,\n"
     ]
    },
    {
     "name": "stdout",
     "output_type": "stream",
     "text": [
      "Saved NkuluEP_PointCloud_WGS84UTM36S_000015.shp. \n",
      "\n",
      "Saved NkuluEP_PointCloud_WGS84UTM36S_000001.shp. \n",
      "\n"
     ]
    },
    {
     "name": "stderr",
     "output_type": "stream",
     "text": [
      "/n/home02/pbb/.conda/envs/Halo/lib/python3.8/site-packages/geopandas/io/file.py:299: FutureWarning: pandas.Int64Index is deprecated and will be removed from pandas in a future version. Use pandas.Index with the appropriate dtype instead.\n",
      "  pd.Int64Index,\n",
      "/n/home02/pbb/.conda/envs/Halo/lib/python3.8/site-packages/geopandas/io/file.py:299: FutureWarning: pandas.Int64Index is deprecated and will be removed from pandas in a future version. Use pandas.Index with the appropriate dtype instead.\n",
      "  pd.Int64Index,\n"
     ]
    },
    {
     "name": "stdout",
     "output_type": "stream",
     "text": [
      "Saved NkuluEP_PointCloud_WGS84UTM36S_000011.shp. \n",
      "\n",
      "Saved NkuluEP_PointCloud_WGS84UTM36S_000008.shp. \n",
      "\n"
     ]
    },
    {
     "name": "stderr",
     "output_type": "stream",
     "text": [
      "/n/home02/pbb/.conda/envs/Halo/lib/python3.8/site-packages/geopandas/io/file.py:299: FutureWarning: pandas.Int64Index is deprecated and will be removed from pandas in a future version. Use pandas.Index with the appropriate dtype instead.\n",
      "  pd.Int64Index,\n"
     ]
    }
   ],
   "source": [
    "for l in ld.glob('*.las'):\n",
    "    \n",
    "    lasBBoxShp(lasf=str(l), opath=str(od), epsg=epsg)"
   ]
  }
 ],
 "metadata": {
  "kernelspec": {
   "display_name": "Python [conda env:.conda-Halo]",
   "language": "python",
   "name": "conda-env-.conda-Halo-py"
  },
  "language_info": {
   "codemirror_mode": {
    "name": "ipython",
    "version": 3
   },
   "file_extension": ".py",
   "mimetype": "text/x-python",
   "name": "python",
   "nbconvert_exporter": "python",
   "pygments_lexer": "ipython3",
   "version": "3.8.6"
  }
 },
 "nbformat": 4,
 "nbformat_minor": 5
}
